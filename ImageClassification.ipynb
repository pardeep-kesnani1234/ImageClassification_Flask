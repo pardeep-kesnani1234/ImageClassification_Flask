{
 "cells": [
  {
   "cell_type": "code",
   "execution_count": 1,
   "metadata": {},
   "outputs": [],
   "source": [
    "# Import neccessary libraries inorder to acheive your task\n",
    "import json\n",
    "from werkzeug.utils import secure_filename\n",
    "from flask import Flask, redirect, url_for, request, render_template\n",
    "import numpy as np\n",
    "import time\n",
    "import cv2\n",
    "import os"
   ]
  },
  {
   "cell_type": "code",
   "execution_count": 2,
   "metadata": {},
   "outputs": [],
   "source": [
    "num = 1\n",
    "# Flask utils\n",
    "# Define a flask app\n",
    "app = Flask(__name__)\n"
   ]
  },
  {
   "cell_type": "code",
   "execution_count": 3,
   "metadata": {},
   "outputs": [],
   "source": [
    "def init_classify():\n",
    "    global net, classes\n",
    "    classes = [\"background\", \"aeroplane\", \"bicycle\", \"bird\", \"boat\",\n",
    "\t\t\"bottle\", \"bus\", \"car\", \"cat\", \"chair\", \"cow\", \"diningtable\",\n",
    "\t\t\"dog\", \"horse\", \"motorbike\", \"person\", \"pottedplant\", \"sheep\",\n",
    "\t\t\"sofa\", \"train\", \"tvmonitor\"]\n",
    "    arch= 'Model/MobileNetSSD_deploy.prototxt.txt'\n",
    "    weights ='Model/MobileNetSSD_deploy.caffemodel'\t\n",
    "    net = cv2.dnn.readNetFromCaffe(arch, weights)\n"
   ]
  },
  {
   "cell_type": "code",
   "execution_count": 4,
   "metadata": {},
   "outputs": [],
   "source": [
    "init_classify()\n",
    "\n",
    "@app.route('/', methods=['GET'])\n",
    "def index():\n",
    "    # Main page\n",
    "    return render_template('index.html')"
   ]
  },
  {
   "cell_type": "code",
   "execution_count": null,
   "metadata": {},
   "outputs": [],
   "source": []
  },
  {
   "cell_type": "code",
   "execution_count": 5,
   "metadata": {},
   "outputs": [],
   "source": [
    "@app.route('/predict', methods=['GET', 'POST'])\n",
    "def upload():\n",
    "    if request.method == 'POST':\n",
    "\n",
    "        # Capturing from camera\n",
    "        # cap = cv2.VideoCapture(0)\n",
    "        # ret, frame = cap.read()\n",
    "        # image = cv2.flip(frame, 1)\n",
    "        # cv2.imwrite(\"uploads/image.png\", image)\n",
    "        # cap.release()\n",
    "\n",
    "        # Get the file from post request\n",
    "        f = request.files['file']\n",
    "        # Save the file to ./uploads\n",
    "        basepath = os.getcwd()\n",
    "        file_path = os.path.join(\n",
    "            basepath, 'uploads', secure_filename(f.filename))\n",
    "        f.save(file_path)\n",
    "\n",
    "        print(file_path)\n",
    "\n",
    "        image = cv2.imread(file_path)\n",
    "\n",
    "        # Make prediction\n",
    "        blob = cv2.dnn.blobFromImage(image, 0.007843,(300, 300), (127.5,127.5,127.5),True)\n",
    "        net.setInput(blob)\n",
    "        prediction = net.forward()\n",
    "        idxs = int(prediction[0][0][0][1])\n",
    "        label = classes[idxs]\n",
    "        confidence = round(prediction[0][0][0][2] * 100, 2)\n",
    "        comb = label + \",\" + str(confidence)\n",
    "        return comb\n",
    "\t\n",
    "        #return render_template('index.html',labeling=label,confidences=confidence);\n",
    "    return None\n"
   ]
  },
  {
   "cell_type": "code",
   "execution_count": null,
   "metadata": {},
   "outputs": [
    {
     "name": "stdout",
     "output_type": "stream",
     "text": [
      " * Serving Flask app \"__main__\" (lazy loading)\n",
      " * Environment: production\n",
      "   WARNING: This is a development server. Do not use it in a production deployment.\n",
      "   Use a production WSGI server instead.\n",
      " * Debug mode: off\n"
     ]
    },
    {
     "name": "stderr",
     "output_type": "stream",
     "text": [
      " * Running on http://127.0.0.1:5000/ (Press CTRL+C to quit)\n",
      "127.0.0.1 - - [04/May/2020 13:27:52] \"\u001b[37mGET / HTTP/1.1\u001b[0m\" 200 -\n"
     ]
    },
    {
     "name": "stdout",
     "output_type": "stream",
     "text": [
      "E:\\bleed.ai\\second phase on internship\\pyimage_search\\Advance-Vision-Official\\Flask Projects\\image classifier (choosing)1\\uploads\\miro9.jpg\n"
     ]
    },
    {
     "name": "stderr",
     "output_type": "stream",
     "text": [
      "127.0.0.1 - - [04/May/2020 13:28:02] \"\u001b[37mPOST /predict HTTP/1.1\u001b[0m\" 200 -\n",
      "127.0.0.1 - - [04/May/2020 13:28:21] \"\u001b[37mPOST /predict HTTP/1.1\u001b[0m\" 200 -\n"
     ]
    },
    {
     "name": "stdout",
     "output_type": "stream",
     "text": [
      "E:\\bleed.ai\\second phase on internship\\pyimage_search\\Advance-Vision-Official\\Flask Projects\\image classifier (choosing)1\\uploads\\63560787_2dc5e8f4dd.jpg\n"
     ]
    },
    {
     "name": "stderr",
     "output_type": "stream",
     "text": [
      "127.0.0.1 - - [04/May/2020 13:28:31] \"\u001b[37mPOST /predict HTTP/1.1\u001b[0m\" 200 -\n"
     ]
    },
    {
     "name": "stdout",
     "output_type": "stream",
     "text": [
      "E:\\bleed.ai\\second phase on internship\\pyimage_search\\Advance-Vision-Official\\Flask Projects\\image classifier (choosing)1\\uploads\\miro9.jpg\n"
     ]
    }
   ],
   "source": [
    "if __name__ == '__main__':\n",
    "    app.run()"
   ]
  },
  {
   "cell_type": "code",
   "execution_count": null,
   "metadata": {},
   "outputs": [],
   "source": []
  },
  {
   "cell_type": "code",
   "execution_count": null,
   "metadata": {},
   "outputs": [],
   "source": []
  },
  {
   "cell_type": "code",
   "execution_count": null,
   "metadata": {},
   "outputs": [],
   "source": []
  }
 ],
 "metadata": {
  "kernelspec": {
   "display_name": "Python 3",
   "language": "python",
   "name": "python3"
  },
  "language_info": {
   "codemirror_mode": {
    "name": "ipython",
    "version": 3
   },
   "file_extension": ".py",
   "mimetype": "text/x-python",
   "name": "python",
   "nbconvert_exporter": "python",
   "pygments_lexer": "ipython3",
   "version": "3.6.10"
  }
 },
 "nbformat": 4,
 "nbformat_minor": 2
}
